{
  "nbformat": 4,
  "nbformat_minor": 0,
  "metadata": {
    "colab": {
      "name": "simplified VGG model",
      "provenance": []
    },
    "kernelspec": {
      "name": "python3",
      "display_name": "Python 3"
    },
    "language_info": {
      "name": "python"
    },
    "widgets": {
      "application/vnd.jupyter.widget-state+json": {
        "4089bee7ce0847faa036065d57842db9": {
          "model_module": "@jupyter-widgets/controls",
          "model_name": "HBoxModel",
          "model_module_version": "1.5.0",
          "state": {
            "_view_name": "HBoxView",
            "_dom_classes": [],
            "_model_name": "HBoxModel",
            "_view_module": "@jupyter-widgets/controls",
            "_model_module_version": "1.5.0",
            "_view_count": null,
            "_view_module_version": "1.5.0",
            "box_style": "",
            "layout": "IPY_MODEL_672c27dc3d144e29b571a13dd88f7594",
            "_model_module": "@jupyter-widgets/controls",
            "children": [
              "IPY_MODEL_6b085587e3c64532a212351739738f6f",
              "IPY_MODEL_618e34e3aa1748cba183cc2fc166222f",
              "IPY_MODEL_1622068517974625b52357d859f307e3"
            ]
          }
        },
        "672c27dc3d144e29b571a13dd88f7594": {
          "model_module": "@jupyter-widgets/base",
          "model_name": "LayoutModel",
          "model_module_version": "1.2.0",
          "state": {
            "_view_name": "LayoutView",
            "grid_template_rows": null,
            "right": null,
            "justify_content": null,
            "_view_module": "@jupyter-widgets/base",
            "overflow": null,
            "_model_module_version": "1.2.0",
            "_view_count": null,
            "flex_flow": null,
            "width": null,
            "min_width": null,
            "border": null,
            "align_items": null,
            "bottom": null,
            "_model_module": "@jupyter-widgets/base",
            "top": null,
            "grid_column": null,
            "overflow_y": null,
            "overflow_x": null,
            "grid_auto_flow": null,
            "grid_area": null,
            "grid_template_columns": null,
            "flex": null,
            "_model_name": "LayoutModel",
            "justify_items": null,
            "grid_row": null,
            "max_height": null,
            "align_content": null,
            "visibility": null,
            "align_self": null,
            "height": null,
            "min_height": null,
            "padding": null,
            "grid_auto_rows": null,
            "grid_gap": null,
            "max_width": null,
            "order": null,
            "_view_module_version": "1.2.0",
            "grid_template_areas": null,
            "object_position": null,
            "object_fit": null,
            "grid_auto_columns": null,
            "margin": null,
            "display": null,
            "left": null
          }
        },
        "6b085587e3c64532a212351739738f6f": {
          "model_module": "@jupyter-widgets/controls",
          "model_name": "HTMLModel",
          "model_module_version": "1.5.0",
          "state": {
            "_view_name": "HTMLView",
            "style": "IPY_MODEL_7494810a4956452aa11913e9b8572b1d",
            "_dom_classes": [],
            "description": "",
            "_model_name": "HTMLModel",
            "placeholder": "​",
            "_view_module": "@jupyter-widgets/controls",
            "_model_module_version": "1.5.0",
            "value": "",
            "_view_count": null,
            "_view_module_version": "1.5.0",
            "description_tooltip": null,
            "_model_module": "@jupyter-widgets/controls",
            "layout": "IPY_MODEL_d57406cc816e4a83a102086a1ffd963e"
          }
        },
        "618e34e3aa1748cba183cc2fc166222f": {
          "model_module": "@jupyter-widgets/controls",
          "model_name": "FloatProgressModel",
          "model_module_version": "1.5.0",
          "state": {
            "_view_name": "ProgressView",
            "style": "IPY_MODEL_51ef2cd29acd4a4ab4f36b37b99fd7a1",
            "_dom_classes": [],
            "description": "",
            "_model_name": "FloatProgressModel",
            "bar_style": "success",
            "max": 170498071,
            "_view_module": "@jupyter-widgets/controls",
            "_model_module_version": "1.5.0",
            "value": 170498071,
            "_view_count": null,
            "_view_module_version": "1.5.0",
            "orientation": "horizontal",
            "min": 0,
            "description_tooltip": null,
            "_model_module": "@jupyter-widgets/controls",
            "layout": "IPY_MODEL_b343049a2016434088a3f5de3850aa60"
          }
        },
        "1622068517974625b52357d859f307e3": {
          "model_module": "@jupyter-widgets/controls",
          "model_name": "HTMLModel",
          "model_module_version": "1.5.0",
          "state": {
            "_view_name": "HTMLView",
            "style": "IPY_MODEL_55376af1481d421e8c005979bf85d521",
            "_dom_classes": [],
            "description": "",
            "_model_name": "HTMLModel",
            "placeholder": "​",
            "_view_module": "@jupyter-widgets/controls",
            "_model_module_version": "1.5.0",
            "value": " 170499072/? [00:11&lt;00:00, 16566385.16it/s]",
            "_view_count": null,
            "_view_module_version": "1.5.0",
            "description_tooltip": null,
            "_model_module": "@jupyter-widgets/controls",
            "layout": "IPY_MODEL_e678c05e037040afb76c260ed2d7767b"
          }
        },
        "7494810a4956452aa11913e9b8572b1d": {
          "model_module": "@jupyter-widgets/controls",
          "model_name": "DescriptionStyleModel",
          "model_module_version": "1.5.0",
          "state": {
            "_view_name": "StyleView",
            "_model_name": "DescriptionStyleModel",
            "description_width": "",
            "_view_module": "@jupyter-widgets/base",
            "_model_module_version": "1.5.0",
            "_view_count": null,
            "_view_module_version": "1.2.0",
            "_model_module": "@jupyter-widgets/controls"
          }
        },
        "d57406cc816e4a83a102086a1ffd963e": {
          "model_module": "@jupyter-widgets/base",
          "model_name": "LayoutModel",
          "model_module_version": "1.2.0",
          "state": {
            "_view_name": "LayoutView",
            "grid_template_rows": null,
            "right": null,
            "justify_content": null,
            "_view_module": "@jupyter-widgets/base",
            "overflow": null,
            "_model_module_version": "1.2.0",
            "_view_count": null,
            "flex_flow": null,
            "width": null,
            "min_width": null,
            "border": null,
            "align_items": null,
            "bottom": null,
            "_model_module": "@jupyter-widgets/base",
            "top": null,
            "grid_column": null,
            "overflow_y": null,
            "overflow_x": null,
            "grid_auto_flow": null,
            "grid_area": null,
            "grid_template_columns": null,
            "flex": null,
            "_model_name": "LayoutModel",
            "justify_items": null,
            "grid_row": null,
            "max_height": null,
            "align_content": null,
            "visibility": null,
            "align_self": null,
            "height": null,
            "min_height": null,
            "padding": null,
            "grid_auto_rows": null,
            "grid_gap": null,
            "max_width": null,
            "order": null,
            "_view_module_version": "1.2.0",
            "grid_template_areas": null,
            "object_position": null,
            "object_fit": null,
            "grid_auto_columns": null,
            "margin": null,
            "display": null,
            "left": null
          }
        },
        "51ef2cd29acd4a4ab4f36b37b99fd7a1": {
          "model_module": "@jupyter-widgets/controls",
          "model_name": "ProgressStyleModel",
          "model_module_version": "1.5.0",
          "state": {
            "_view_name": "StyleView",
            "_model_name": "ProgressStyleModel",
            "description_width": "",
            "_view_module": "@jupyter-widgets/base",
            "_model_module_version": "1.5.0",
            "_view_count": null,
            "_view_module_version": "1.2.0",
            "bar_color": null,
            "_model_module": "@jupyter-widgets/controls"
          }
        },
        "b343049a2016434088a3f5de3850aa60": {
          "model_module": "@jupyter-widgets/base",
          "model_name": "LayoutModel",
          "model_module_version": "1.2.0",
          "state": {
            "_view_name": "LayoutView",
            "grid_template_rows": null,
            "right": null,
            "justify_content": null,
            "_view_module": "@jupyter-widgets/base",
            "overflow": null,
            "_model_module_version": "1.2.0",
            "_view_count": null,
            "flex_flow": null,
            "width": null,
            "min_width": null,
            "border": null,
            "align_items": null,
            "bottom": null,
            "_model_module": "@jupyter-widgets/base",
            "top": null,
            "grid_column": null,
            "overflow_y": null,
            "overflow_x": null,
            "grid_auto_flow": null,
            "grid_area": null,
            "grid_template_columns": null,
            "flex": null,
            "_model_name": "LayoutModel",
            "justify_items": null,
            "grid_row": null,
            "max_height": null,
            "align_content": null,
            "visibility": null,
            "align_self": null,
            "height": null,
            "min_height": null,
            "padding": null,
            "grid_auto_rows": null,
            "grid_gap": null,
            "max_width": null,
            "order": null,
            "_view_module_version": "1.2.0",
            "grid_template_areas": null,
            "object_position": null,
            "object_fit": null,
            "grid_auto_columns": null,
            "margin": null,
            "display": null,
            "left": null
          }
        },
        "55376af1481d421e8c005979bf85d521": {
          "model_module": "@jupyter-widgets/controls",
          "model_name": "DescriptionStyleModel",
          "model_module_version": "1.5.0",
          "state": {
            "_view_name": "StyleView",
            "_model_name": "DescriptionStyleModel",
            "description_width": "",
            "_view_module": "@jupyter-widgets/base",
            "_model_module_version": "1.5.0",
            "_view_count": null,
            "_view_module_version": "1.2.0",
            "_model_module": "@jupyter-widgets/controls"
          }
        },
        "e678c05e037040afb76c260ed2d7767b": {
          "model_module": "@jupyter-widgets/base",
          "model_name": "LayoutModel",
          "model_module_version": "1.2.0",
          "state": {
            "_view_name": "LayoutView",
            "grid_template_rows": null,
            "right": null,
            "justify_content": null,
            "_view_module": "@jupyter-widgets/base",
            "overflow": null,
            "_model_module_version": "1.2.0",
            "_view_count": null,
            "flex_flow": null,
            "width": null,
            "min_width": null,
            "border": null,
            "align_items": null,
            "bottom": null,
            "_model_module": "@jupyter-widgets/base",
            "top": null,
            "grid_column": null,
            "overflow_y": null,
            "overflow_x": null,
            "grid_auto_flow": null,
            "grid_area": null,
            "grid_template_columns": null,
            "flex": null,
            "_model_name": "LayoutModel",
            "justify_items": null,
            "grid_row": null,
            "max_height": null,
            "align_content": null,
            "visibility": null,
            "align_self": null,
            "height": null,
            "min_height": null,
            "padding": null,
            "grid_auto_rows": null,
            "grid_gap": null,
            "max_width": null,
            "order": null,
            "_view_module_version": "1.2.0",
            "grid_template_areas": null,
            "object_position": null,
            "object_fit": null,
            "grid_auto_columns": null,
            "margin": null,
            "display": null,
            "left": null
          }
        }
      }
    }
  },
  "cells": [
    {
      "cell_type": "code",
      "metadata": {
        "id": "Q1WeWsussO2L"
      },
      "source": [
        "import torch\n",
        "import torch.nn as nn\n",
        "import numpy as np\n",
        "import matplotlib.pyplot as plt\n",
        "from torchvision import datasets\n",
        "from torchvision.transforms import ToTensor\n",
        "from torch.utils.data import DataLoader\n",
        "import torchvision.transforms as transforms\n",
        "from datetime import datetime\n",
        "import torch.nn.functional as F\n"
      ],
      "execution_count": 1,
      "outputs": []
    },
    {
      "cell_type": "code",
      "metadata": {
        "colab": {
          "base_uri": "https://localhost:8080/",
          "height": 100,
          "referenced_widgets": [
            "4089bee7ce0847faa036065d57842db9",
            "672c27dc3d144e29b571a13dd88f7594",
            "6b085587e3c64532a212351739738f6f",
            "618e34e3aa1748cba183cc2fc166222f",
            "1622068517974625b52357d859f307e3",
            "7494810a4956452aa11913e9b8572b1d",
            "d57406cc816e4a83a102086a1ffd963e",
            "51ef2cd29acd4a4ab4f36b37b99fd7a1",
            "b343049a2016434088a3f5de3850aa60",
            "55376af1481d421e8c005979bf85d521",
            "e678c05e037040afb76c260ed2d7767b"
          ]
        },
        "id": "KURlRdRGsO3m",
        "outputId": "50a35873-43bb-40dd-d974-89b5decc994b"
      },
      "source": [
        "#import data\n",
        "train_data=datasets.CIFAR10(root='/content/sample_data',train=True, transform=transforms.ToTensor(),download=True)\n",
        "test_data=datasets.CIFAR10(root='/content/sample_data',train=False, transform=transforms.ToTensor(),download=True)\n",
        "train_loader=DataLoader(dataset=train_data,batch_size=128,shuffle=True)\n",
        "test_loader=DataLoader(dataset=test_data,batch_size=128,shuffle=False)"
      ],
      "execution_count": 2,
      "outputs": [
        {
          "output_type": "stream",
          "name": "stdout",
          "text": [
            "Downloading https://www.cs.toronto.edu/~kriz/cifar-10-python.tar.gz to /content/sample_data/cifar-10-python.tar.gz\n"
          ]
        },
        {
          "output_type": "display_data",
          "data": {
            "application/vnd.jupyter.widget-view+json": {
              "model_id": "4089bee7ce0847faa036065d57842db9",
              "version_minor": 0,
              "version_major": 2
            },
            "text/plain": [
              "  0%|          | 0/170498071 [00:00<?, ?it/s]"
            ]
          },
          "metadata": {}
        },
        {
          "output_type": "stream",
          "name": "stdout",
          "text": [
            "Extracting /content/sample_data/cifar-10-python.tar.gz to /content/sample_data\n",
            "Files already downloaded and verified\n"
          ]
        }
      ]
    },
    {
      "cell_type": "code",
      "metadata": {
        "id": "grCky6XjtfK6"
      },
      "source": [
        "# #Classes\n",
        "k=len(set(train_data.targets))\n",
        "# n_input_channels=train_data.data.shape[3]\n"
      ],
      "execution_count": 3,
      "outputs": []
    },
    {
      "cell_type": "code",
      "metadata": {
        "id": "SOxWoLkLuIwo"
      },
      "source": [
        "#Create model\n",
        "class CNN(nn.Module):\n",
        "  def __init__(self,k):\n",
        "    super(CNN,self).__init__()\n",
        "    # define the conv layers\n",
        "    self.conv1 = nn.Sequential(\n",
        "        nn.Conv2d(3, 32, kernel_size=3, padding=1),\n",
        "        nn.ReLU(),\n",
        "        nn.BatchNorm2d(32),\n",
        "        nn.Conv2d(32, 32, kernel_size=3, padding=1),\n",
        "        nn.ReLU(),\n",
        "        nn.BatchNorm2d(32),\n",
        "        nn.MaxPool2d(2),\n",
        "    )\n",
        "    self.conv2 = nn.Sequential(\n",
        "        nn.Conv2d(32, 64, kernel_size=3, padding=1),\n",
        "        nn.ReLU(),\n",
        "        nn.BatchNorm2d(64),\n",
        "        nn.Conv2d(64, 64, kernel_size=3, padding=1),\n",
        "        nn.ReLU(),\n",
        "        nn.BatchNorm2d(64),\n",
        "        nn.MaxPool2d(2),\n",
        "    )\n",
        "    self.conv3 = nn.Sequential(\n",
        "        nn.Conv2d(64, 128, kernel_size=3, padding=1),\n",
        "        nn.ReLU(),\n",
        "        nn.BatchNorm2d(128),\n",
        "        nn.Conv2d(128, 128, kernel_size=3, padding=1),\n",
        "        nn.ReLU(),\n",
        "        nn.BatchNorm2d(128),\n",
        "        nn.MaxPool2d(2),\n",
        "    )\n",
        "\n",
        "    # Useful: https://pytorch.org/docs/stable/nn.html#torch.nn.MaxPool2d\n",
        "    # H_out = H_in + 2p - 2 --> p = 1 if H_out = H_in\n",
        "    \n",
        "    # Easy to calculate output\n",
        "    # 32 > 16 > 8 > 4\n",
        "\n",
        "    # define the linear layers\n",
        "    self.fc1 = nn.Linear(128 * 4 * 4, 1024)\n",
        "    self.fc2 = nn.Linear(1024, k)\n",
        "  \n",
        "  def forward(self, x):\n",
        "    x = self.conv1(x)\n",
        "    x = self.conv2(x)\n",
        "    x = self.conv3(x)\n",
        "    x = x.view(x.size(0), -1)\n",
        "    x = F.dropout(x, p=0.5)\n",
        "    x = F.relu(self.fc1(x))\n",
        "    x = F.dropout(x, p=0.2)\n",
        "    x = self.fc2(x)\n",
        "    return x\n",
        "\n",
        "\n",
        "model=CNN(k)\n",
        "\n",
        "criterion=nn.CrossEntropyLoss()\n",
        "optimizer=torch.optim.Adam(model.parameters())"
      ],
      "execution_count": 4,
      "outputs": []
    },
    {
      "cell_type": "code",
      "metadata": {
        "id": "28UIlDBiy5G3"
      },
      "source": [
        "device=torch.device(\"cuda:0\" if torch.cuda.is_available() else \"cpu\")\n",
        "model.to(device)\n",
        "epoch=15\n",
        "\n",
        "for iter in range(epoch):\n",
        "  if (iter-1)%10==0 or iter==0:\n",
        "    t0=datetime.now()\n",
        "  for inputs,targets in train_loader:\n",
        "      \n",
        "      #move data to GPU\n",
        "      inputs,targets=inputs.to(device),targets.to(device)\n",
        "      \n",
        "      #zero the grads\n",
        "      optimizer.zero_grad()\n",
        "\n",
        "      #forward propagation\n",
        "      y_hats=model(inputs)\n",
        "      loss=criterion(y_hats,targets)\n",
        "\n",
        "      #backward propagation\n",
        "      loss.backward()\n",
        "      optimizer.step()\n",
        "\n",
        "  # for inputs,targets in test_loader:\n",
        "  #   #move data to GPU\n",
        "  #   inputs,targets=inputs.to(device),targets.to(device)\n",
        "    \n",
        "  #   y_hats=model(inputs)\n",
        "  #   test_loss=criterion(y_hats,targets)\n",
        "\n",
        "  \n",
        "  if epoch%10!=0:\n",
        "        print(\"Epoch \" + str(iter)+\"/\" + str(epoch),\" |  Train_Loss = \",loss.data,'Duration =',datetime.now()-t0)"
      ],
      "execution_count": null,
      "outputs": []
    },
    {
      "cell_type": "code",
      "metadata": {
        "colab": {
          "base_uri": "https://localhost:8080/"
        },
        "id": "UdsvzFsz-6G4",
        "outputId": "a845b04a-f3d5-484e-837e-16d1a0469771"
      },
      "source": [
        "#calculate The Accuracy for all batches\n",
        "n_corrects=0\n",
        "n_samples=0\n",
        "for inputs,targets in train_loader:\n",
        "  inputs,targets=inputs.to(device),targets.to(device)\n",
        "  probs=model(inputs)\n",
        "  _,preds=torch.max(probs,1)\n",
        "  n_corrects+=torch.sum(preds==targets)\n",
        "  n_samples+=targets.shape[0]\n",
        "\n",
        "train_accuracy=n_corrects/n_samples\n",
        "\n",
        "n_corrects=0\n",
        "n_samples=0\n",
        "for inputs,targets in test_loader:\n",
        "  inputs,targets=inputs.to(device),targets.to(device)\n",
        "  probs=model(inputs)\n",
        "  _,preds=torch.max(probs,1)\n",
        "  n_corrects+=torch.sum(preds==targets)\n",
        "  n_samples+=targets.shape[0]\n",
        "\n",
        "test_accuracy=n_corrects/n_samples\n",
        "\n",
        "print('Train Accuray = ',train_accuracy)\n",
        "print('Test Accuracy = ',test_accuracy)"
      ],
      "execution_count": null,
      "outputs": [
        {
          "output_type": "stream",
          "name": "stdout",
          "text": [
            "Train Accuray =  tensor(0.7856, device='cuda:0')\n",
            "Test Accuracy =  tensor(0.6606, device='cuda:0')\n"
          ]
        }
      ]
    },
    {
      "cell_type": "code",
      "metadata": {
        "colab": {
          "base_uri": "https://localhost:8080/"
        },
        "id": "X45-6jGeHjp3",
        "outputId": "5f0be1db-bbff-4c70-b539-1894110348c2"
      },
      "source": [
        "from torchsummary import summary\n",
        "summary(model, (3, 32, 32))"
      ],
      "execution_count": null,
      "outputs": [
        {
          "output_type": "stream",
          "name": "stdout",
          "text": [
            "----------------------------------------------------------------\n",
            "        Layer (type)               Output Shape         Param #\n",
            "================================================================\n",
            "            Conv2d-1           [-1, 32, 32, 32]             896\n",
            "              ReLU-2           [-1, 32, 32, 32]               0\n",
            "       BatchNorm2d-3           [-1, 32, 32, 32]              64\n",
            "            Conv2d-4           [-1, 32, 32, 32]           9,248\n",
            "              ReLU-5           [-1, 32, 32, 32]               0\n",
            "       BatchNorm2d-6           [-1, 32, 32, 32]              64\n",
            "         MaxPool2d-7           [-1, 32, 16, 16]               0\n",
            "            Conv2d-8           [-1, 64, 16, 16]          18,496\n",
            "              ReLU-9           [-1, 64, 16, 16]               0\n",
            "      BatchNorm2d-10           [-1, 64, 16, 16]             128\n",
            "           Conv2d-11           [-1, 64, 16, 16]          36,928\n",
            "             ReLU-12           [-1, 64, 16, 16]               0\n",
            "      BatchNorm2d-13           [-1, 64, 16, 16]             128\n",
            "        MaxPool2d-14             [-1, 64, 8, 8]               0\n",
            "           Conv2d-15            [-1, 128, 8, 8]          73,856\n",
            "             ReLU-16            [-1, 128, 8, 8]               0\n",
            "      BatchNorm2d-17            [-1, 128, 8, 8]             256\n",
            "           Conv2d-18            [-1, 128, 8, 8]         147,584\n",
            "             ReLU-19            [-1, 128, 8, 8]               0\n",
            "      BatchNorm2d-20            [-1, 128, 8, 8]             256\n",
            "        MaxPool2d-21            [-1, 128, 4, 4]               0\n",
            "           Linear-22                 [-1, 1024]       2,098,176\n",
            "           Linear-23                   [-1, 10]          10,250\n",
            "================================================================\n",
            "Total params: 2,396,330\n",
            "Trainable params: 2,396,330\n",
            "Non-trainable params: 0\n",
            "----------------------------------------------------------------\n",
            "Input size (MB): 0.01\n",
            "Forward/backward pass size (MB): 2.74\n",
            "Params size (MB): 9.14\n",
            "Estimated Total Size (MB): 11.90\n",
            "----------------------------------------------------------------\n"
          ]
        }
      ]
    }
  ]
}